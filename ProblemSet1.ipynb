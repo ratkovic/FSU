{
  "nbformat": 4,
  "nbformat_minor": 0,
  "metadata": {
    "colab": {
      "provenance": [],
      "authorship_tag": "ABX9TyN9CizrTszvyC2DAzrpjXrp",
      "include_colab_link": true
    },
    "kernelspec": {
      "name": "ir",
      "display_name": "R"
    },
    "language_info": {
      "name": "R"
    }
  },
  "cells": [
    {
      "cell_type": "markdown",
      "metadata": {
        "id": "view-in-github",
        "colab_type": "text"
      },
      "source": [
        "<a href=\"https://colab.research.google.com/github/ratkovic/FSU/blob/main/ProblemSet1.ipynb\" target=\"_parent\"><img src=\"https://colab.research.google.com/assets/colab-badge.svg\" alt=\"Open In Colab\"/></a>"
      ]
    },
    {
      "cell_type": "markdown",
      "source": [
        "\n",
        "# Part 1: Building a Model and Globe-tossing\n",
        "\n",
        "## Some of this part's material comes from\n",
        "\n",
        "Statistical Rethinking\n",
        "\n",
        "- <https://learning.oreilly.com/library/view/statistical-rethinking/9781482253481/>\n",
        "\n",
        "Corresponding Code\n",
        "\n",
        "- <https://bookdown.org/content/4857/>\n",
        "\n",
        "\"Between the devil and the deep blue sea: Tensions between scientific judgement and statistical model selection\"  by Danielle J. Navarro\n",
        "\n",
        "- <https://psyarxiv.com/39q8y/>\n",
        "\n",
        "## Libraries we will need\n",
        "\n",
        "Please note that if a library is not installed, you will need to do so!"
      ],
      "metadata": {
        "id": "tNEFhp38_7UA"
      }
    },
    {
      "cell_type": "code",
      "execution_count": 2,
      "metadata": {
        "colab": {
          "base_uri": "https://localhost:8080/",
          "height": 133
        },
        "id": "jKVK6RvH_9q3",
        "outputId": "e0da1251-bcec-4bca-e792-35948cad47ed"
      },
      "outputs": [
        {
          "output_type": "error",
          "ename": "ERROR",
          "evalue": "ignored",
          "traceback": [
            "Error in library(brms): there is no package called ‘brms’\nTraceback:\n",
            "1. library(brms)"
          ]
        }
      ],
      "source": [
        "library(tidyverse)\n",
        "library(brms)"
      ]
    },
    {
      "cell_type": "code",
      "execution_count": null,
      "metadata": {
        "id": "DzdtxZ_H_xfU"
      },
      "outputs": [],
      "source": []
    }
  ]
}