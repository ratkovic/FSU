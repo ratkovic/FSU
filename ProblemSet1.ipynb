{
  "nbformat": 4,
  "nbformat_minor": 0,
  "metadata": {
    "colab": {
      "provenance": [],
      "authorship_tag": "ABX9TyPa8n8fFwt8C+rXbuZ7Knes",
      "include_colab_link": true
    },
    "kernelspec": {
      "name": "ir",
      "display_name": "R"
    },
    "language_info": {
      "name": "R"
    }
  },
  "cells": [
    {
      "cell_type": "markdown",
      "metadata": {
        "id": "view-in-github",
        "colab_type": "text"
      },
      "source": [
        "<a href=\"https://colab.research.google.com/github/ratkovic/FSU/blob/main/ProblemSet1.ipynb\" target=\"_parent\"><img src=\"https://colab.research.google.com/assets/colab-badge.svg\" alt=\"Open In Colab\"/></a>"
      ]
    },
    {
      "cell_type": "markdown",
      "source": [
        "\n",
        "# Part 1: Building a Model and Globe-tossing\n",
        "\n",
        "## Some of this part's material comes from\n",
        "\n",
        "Statistical Rethinking\n",
        "\n",
        "- <https://learning.oreilly.com/library/view/statistical-rethinking/9781482253481/>\n",
        "\n",
        "Corresponding Code\n",
        "\n",
        "- <https://bookdown.org/content/4857/>\n",
        "\n",
        "\"Between the devil and the deep blue sea: Tensions between scientific judgement and statistical model selection\"  by Danielle J. Navarro\n",
        "\n",
        "- <https://psyarxiv.com/39q8y/>\n",
        "\n",
        "## Libraries we will need\n",
        "\n",
        "Please note that if a library is not installed, you will need to do so! Note that this may take a few minutes the first itme."
      ],
      "metadata": {
        "id": "tNEFhp38_7UA"
      }
    },
    {
      "cell_type": "code",
      "execution_count": null,
      "metadata": {
        "colab": {
          "base_uri": "https://localhost:8080/"
        },
        "id": "jKVK6RvH_9q3",
        "outputId": "3b8f705a-3864-43ac-edce-8b8b0638025c"
      },
      "outputs": [
        {
          "output_type": "stream",
          "name": "stderr",
          "text": [
            "Installing package into ‘/usr/local/lib/R/site-library’\n",
            "(as ‘lib’ is unspecified)\n",
            "\n",
            "also installing the dependencies ‘lazyeval’, ‘numDeriv’, ‘plyr’, ‘httpuv’, ‘sourcetools’, ‘later’, ‘promises’, ‘htmlwidgets’, ‘miniUI’, ‘crosstalk’, ‘zoo’, ‘igraph’, ‘StanHeaders’, ‘inline’, ‘gridExtra’, ‘RcppParallel’, ‘RcppEigen’, ‘BH’, ‘checkmate’, ‘tensorA’, ‘distributional’, ‘ggridges’, ‘reshape2’, ‘shiny’, ‘colourpicker’, ‘DT’, ‘dygraphs’, ‘gtools’, ‘markdown’, ‘shinyjs’, ‘shinythemes’, ‘threejs’, ‘xtable’, ‘xts’, ‘mvtnorm’, ‘Brobdingnag’, ‘globals’, ‘listenv’, ‘parallelly’, ‘Rcpp’, ‘rstan’, ‘loo’, ‘posterior’, ‘rstantools’, ‘bayesplot’, ‘shinystan’, ‘bridgesampling’, ‘future’, ‘matrixStats’, ‘nleqslv’, ‘coda’, ‘abind’\n",
            "\n",
            "\n"
          ]
        }
      ],
      "source": [
        "packages <- c('tidyverse', 'brms', 'mixtools')\n",
        "install.packages(setdiff(packages, rownames(installed.packages())))\n",
        "\n",
        "library(tidyverse)\n",
        "library(brms)\n"
      ]
    },
    {
      "cell_type": "code",
      "execution_count": null,
      "metadata": {
        "id": "DzdtxZ_H_xfU"
      },
      "outputs": [],
      "source": []
    }
  ]
}