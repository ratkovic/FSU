{
  "cells": [
    {
      "cell_type": "markdown",
      "metadata": {
        "id": "view-in-github",
        "colab_type": "text"
      },
      "source": [
        "<a href=\"https://colab.research.google.com/github/ratkovic/FSU/blob/main/ProblemSet1.ipynb\" target=\"_parent\"><img src=\"https://colab.research.google.com/assets/colab-badge.svg\" alt=\"Open In Colab\"/></a>"
      ]
    },
    {
      "cell_type": "markdown",
      "metadata": {
        "id": "tNEFhp38_7UA"
      },
      "source": [
        "\n",
        "# Part 1: Building a Model and Globe-tossing\n",
        "\n",
        "## Some of this part's material comes from\n",
        "\n",
        "Statistical Rethinking\n",
        "\n",
        "- <https://learning.oreilly.com/library/view/statistical-rethinking/9781482253481/>\n",
        "\n",
        "Corresponding Code\n",
        "\n",
        "- <https://bookdown.org/content/4857/>\n",
        "\n",
        "\"Between the devil and the deep blue sea: Tensions between scientific judgement and statistical model selection\"  by Danielle J. Navarro\n",
        "\n",
        "- <https://psyarxiv.com/39q8y/>\n",
        "\n",
        "## Libraries we will need\n",
        "\n",
        "Please note that if a library is not installed, you will need to do so! Note that this may take (quite) a few minutes the first time.\n",
        "\n",
        "Also note that you can download\n",
        "\n"
      ]
    },
    {
      "cell_type": "code",
      "execution_count": 35,
      "metadata": {
        "id": "jKVK6RvH_9q3"
      },
      "outputs": [],
      "source": [
        "packages <- c('tidyverse', 'brms', 'dplyr','mixtools')\n",
        "install.packages(setdiff(packages, rownames(installed.packages())))\n",
        "\n",
        "library(tidyverse)\n",
        "library(dplyr)\n",
        "library(brms)\n"
      ]
    },
    {
      "cell_type": "markdown",
      "source": [
        "\n",
        "## Statistical Golems: The Model\n",
        "\n",
        "\n",
        "Sometimes their unyielding logic reveals implications previously hidden to their designers. These implications can be priceless discoveries. Or they may produce silly and dangerous behavior. Rather than idealized angels of reason, scientific models are powerful clay robots without intent of their own, bumbling along according to the myopic instructions they embody. Like with Rabbi Judah’s golem, the golems of science are wisely regarded with both awe and apprehension. We absolutely have to use them, but doing so always entails some risk.\n",
        "\n",
        "## Bayes, Models, Parameters, and Estimation\n",
        "\n",
        "Bayesian Statistics relies on a fully specified model of the outcome. As we discuss in lecture, this means that Bayesians produce a full, transparent statistical model of the data and how the data will inform inference.  On first glance this may seem unobjetionable, but let's contrast it with standard, frequentist approaches in our field.   \n",
        "\n",
        "Consider, for example, heteroskedasticity in your regression's residuals.  The frequentist might implement ``heteroskedasticity robust standard errors,'' which allow for valid inference on regression coefficients without specifying the heteroskedasticity.  Setting aside the inherent difference in inferential frameworks, the Bayesian would urge the social scientist to model the heteroskedasticity and try to learn something from it.  The frequentist would, instead, say that the heteroskedasticity is simply nuisance and distracting from the question at hand, the regression coefficients.\n",
        "\n",
        "Similar arguments play out when using  ``Cluster Robust Standard Errors'', where Bayesian would turn to a hierarchical linear model.  Both views have value, but I am going to suggest that you rely on frequentist methods for simple questions, i.e. a regression coefficient or ATE/ATT, but use Bayesian methods when looking to model complex phenomena: hierarchical models, panel models, and, ultimately, networks, images, and text.\n",
        "\n",
        "This chain of argument puts model selection at the core of Bayesian statistics, to which we turn next.\n",
        "\n",
        "## Model Selection\n",
        "\n",
        "Consider the posterior density for a given set of parameters $\\theta$ given a model, $\\mathcal M$ and data $\\mathcal D$:\n",
        "\n",
        "- $Pr(\\theta| \\mathcal D, \\mathcal M)$\n",
        "\n",
        "How should we choose choose among models?\n",
        "\n",
        "- $Pr(\\mathcal M|\\mathcal D)$\n",
        "\n",
        "i.e. compare $\\mathcal M_1$ and $\\mathcal M_2$, i.e. $Pr(\\mathcal M_1|\\mathcal D)$ vs $Pr(\\mathcal M_2|\\mathcal D)$?\n",
        "\n",
        "\n",
        "## General Thoughts\n",
        "\n",
        "This question will be aesthetic as well as mathematical.  There is always Occam's razor, but here's a few more quotes that guide me on assessing models:\n",
        "\n",
        "Dennis Lindley:\n",
        "\n",
        "- If you can’t do simple problems, how can you do complicated ones?\n",
        "\n",
        "George Box:\n",
        "\n",
        "- Since all models are wrong the scientist must be alert to what is importantly wrong. It is  inappropriate to be concerned about mice when there are tigers abroad.\n",
        "\n",
        "Bernardo and Smith:\n",
        "\n",
        "- Many authors . . . highlight a distinction between what one might call scientific and technological approaches to models. The essence of the dichotomy is that scientists are assumed to seek explanatory models, which aim at providing insight into and understanding of the “true” mechanisms of the phenomenon under study; whereas technologists are content with empirical models, which are not concerned with the “truth”, but simply providing a reliably basis for practical action in predicting and controlling phenomena of interest.\n",
        "- See Breiman, ``Statistics: The Two Cultures\"\n",
        "\n",
        "We will return to criteria for selecting across models after practicing sampling from a posterior.\n",
        "\n",
        "## Globe tossing: An Example of Bayesian Updating\n",
        "\n",
        "We begin with a simple example, showing how the data, working through the likelihood, and the prior can combine to generate a posterior density.  Let's imagine we want to estimate the proportion of the earth's surface that is covered with water (correct answer: 2/3 and, yes, the earth is round).  We could do this by randomly selecting points on a globe and calculating the percent that are water.\n",
        "\n",
        "\n",
        "## Building a Model\n",
        "\n",
        "In a Bayesian setting, the components of a model are:\n",
        "\n",
        "- A likelihood function: ``The number of ways each conjecture could produce an observation''\n",
        "\n",
        "- The parameters: ``the accumulated number of ways each conjecture cold produce the entire data''\n",
        "\n",
        "- A prior: ``the initial plausibility of each conjectured cause of the data''\n",
        "\n",
        "\\medskip\n",
        "The model has two different componenets, one observed and one unobserved.\n",
        "\n",
        "- Observed: likelihood; data given parameters\n",
        "\n",
        "- Unobserved: parameters\n",
        "\n",
        "## Globe tossing: The Model\n",
        "\n",
        "We can write the model for tossing the globe in hierarchical form as\n",
        "\n",
        "$w|p,n \\sim Binomial(n,p)$\n",
        "\n",
        "$p \\sim Unif(0,1)$\n",
        "\n",
        "where $n=l+w$.\n",
        "\n",
        "The posterior can be written as\n",
        "- $Pr(p|w,l)=\\frac{Pr(w,l|p)Pr(p)}{Pr(w,l)}$\n",
        "\n",
        "where\n",
        "\n",
        "- Posterior = (Probability  of  data $\\times$ Prior)/(Average Probability of the Data)\n",
        "\n",
        "Note that since the denominator is not a function of the parameters, we get the result that the posterior is proportional to the data density times the prior.\n",
        "\n",
        "## The vector of data\n",
        "\n",
        "\n",
        "We could model this with the vector $d0$ below, with outcomes for water and land.  Say we conduct this experiment and recover 6 w's and 3 l's,\n",
        "\n"
      ],
      "metadata": {
        "id": "eo1Rxise7Nqk"
      }
    },
    {
      "cell_type": "code",
      "execution_count": 36,
      "metadata": {
        "id": "DzdtxZ_H_xfU"
      },
      "outputs": [],
      "source": [
        "d0 <- tibble(toss = c(\"w\", \"l\", \"w\", \"w\", \"w\", \"l\", \"w\", \"l\", \"w\"))"
      ]
    },
    {
      "cell_type": "markdown",
      "source": [
        "We are going to see how, as we go from no data to nine observations, how the posterior distribtuion evolves.\n",
        "\n",
        "## Globe tossing"
      ],
      "metadata": {
        "id": "fps26R1q70VS"
      }
    },
    {
      "cell_type": "code",
      "source": [
        "  d <-\n",
        "  d0 %>%\n",
        "  mutate(n_trials  = 1:9,\n",
        "         n_success = cumsum(toss == \"w\"))\n",
        "\n",
        "  d"
      ],
      "metadata": {
        "colab": {
          "base_uri": "https://localhost:8080/",
          "height": 380
        },
        "id": "vjkjQZR174J5",
        "outputId": "25adb9bb-f51f-4c00-da89-8b251b1c97ff"
      },
      "execution_count": 37,
      "outputs": [
        {
          "output_type": "display_data",
          "data": {
            "text/html": [
              "<table class=\"dataframe\">\n",
              "<caption>A tibble: 9 × 3</caption>\n",
              "<thead>\n",
              "\t<tr><th scope=col>toss</th><th scope=col>n_trials</th><th scope=col>n_success</th></tr>\n",
              "\t<tr><th scope=col>&lt;chr&gt;</th><th scope=col>&lt;int&gt;</th><th scope=col>&lt;int&gt;</th></tr>\n",
              "</thead>\n",
              "<tbody>\n",
              "\t<tr><td>w</td><td>1</td><td>1</td></tr>\n",
              "\t<tr><td>l</td><td>2</td><td>1</td></tr>\n",
              "\t<tr><td>w</td><td>3</td><td>2</td></tr>\n",
              "\t<tr><td>w</td><td>4</td><td>3</td></tr>\n",
              "\t<tr><td>w</td><td>5</td><td>4</td></tr>\n",
              "\t<tr><td>l</td><td>6</td><td>4</td></tr>\n",
              "\t<tr><td>w</td><td>7</td><td>5</td></tr>\n",
              "\t<tr><td>l</td><td>8</td><td>5</td></tr>\n",
              "\t<tr><td>w</td><td>9</td><td>6</td></tr>\n",
              "</tbody>\n",
              "</table>\n"
            ],
            "text/markdown": "\nA tibble: 9 × 3\n\n| toss &lt;chr&gt; | n_trials &lt;int&gt; | n_success &lt;int&gt; |\n|---|---|---|\n| w | 1 | 1 |\n| l | 2 | 1 |\n| w | 3 | 2 |\n| w | 4 | 3 |\n| w | 5 | 4 |\n| l | 6 | 4 |\n| w | 7 | 5 |\n| l | 8 | 5 |\n| w | 9 | 6 |\n\n",
            "text/latex": "A tibble: 9 × 3\n\\begin{tabular}{lll}\n toss & n\\_trials & n\\_success\\\\\n <chr> & <int> & <int>\\\\\n\\hline\n\t w & 1 & 1\\\\\n\t l & 2 & 1\\\\\n\t w & 3 & 2\\\\\n\t w & 4 & 3\\\\\n\t w & 5 & 4\\\\\n\t l & 6 & 4\\\\\n\t w & 7 & 5\\\\\n\t l & 8 & 5\\\\\n\t w & 9 & 6\\\\\n\\end{tabular}\n",
            "text/plain": [
              "  toss n_trials n_success\n",
              "1 w    1        1        \n",
              "2 l    2        1        \n",
              "3 w    3        2        \n",
              "4 w    4        3        \n",
              "5 w    5        4        \n",
              "6 l    6        4        \n",
              "7 w    7        5        \n",
              "8 l    8        5        \n",
              "9 w    9        6        "
            ]
          },
          "metadata": {}
        }
      ]
    },
    {
      "cell_type": "markdown",
      "source": [
        "\n",
        "## Globe tossing\n",
        "\n",
        "Now, we are going to generate a plot showing how each new datum moves the posterior. In each square, the dashed line is the _previous_ posterior estimate, and the solid line is the next one.\n"
      ],
      "metadata": {
        "id": "YAnw3pQD7-fi"
      }
    },
    {
      "cell_type": "code",
      "source": [
        "sequence_length <- 50\n",
        "\n",
        "d %>%\n",
        "  expand(nesting(n_trials, toss, n_success),\n",
        "         p_water = seq(from = 0, to = 1, length.out = sequence_length)) %>%\n",
        "  group_by(p_water) %>%\n",
        " # you can learn more about lagging here: https://www.rdocumentation.org/packages/stats/versions/3.5.1/topics/lag or here: https://dplyr.tidyverse.org/reference/lead-lag.html\n",
        "  mutate(lagged_n_trials  = lag(n_trials, n = 1),\n",
        "         lagged_n_success = lag(n_success, n = 1)) %>%\n",
        "  ungroup() %>%\n",
        "  mutate(prior      = ifelse(n_trials == 1, .5,\n",
        "                             dbinom(x    = lagged_n_success,\n",
        "                                    size = lagged_n_trials,\n",
        "                                    prob = p_water)),\n",
        "         likelihood = dbinom(x    = n_success,\n",
        "                             size = n_trials,\n",
        "                             prob = p_water),\n",
        "         strip      = str_c(\"n = \", n_trials)) %>%\n",
        "  # the next three lines allow us to normalize the prior and the likelihood,\n",
        "  # putting them both in a probability metric\n",
        "  group_by(n_trials) %>%\n",
        "  mutate(prior      = prior / sum(prior),\n",
        "         likelihood = likelihood / sum(likelihood)) %>%\n",
        "\n",
        "  # plot!\n",
        "  ggplot(aes(x = p_water)) +\n",
        "  geom_line(aes(y = prior),\n",
        "            linetype = 2) +\n",
        "  geom_line(aes(y = likelihood)) +\n",
        "  scale_x_continuous(\"proportion water\", breaks = c(0, .5, 1)) +\n",
        "  scale_y_continuous(\"plausibility\", breaks = NULL) +\n",
        "  theme(panel.grid = element_blank()) +\n",
        "  facet_wrap(~strip, scales = \"free_y\")"
      ],
      "metadata": {
        "colab": {
          "base_uri": "https://localhost:8080/",
          "height": 437
        },
        "id": "IibENpZM7_j1",
        "outputId": "852b7eea-5c65-47b7-9671-d9202a9a2b84"
      },
      "execution_count": 38,
      "outputs": [
        {
          "output_type": "display_data",
          "data": {
            "text/plain": [
              "plot without title"
            ],
            "image/png": "[encoded data removed]"
          },
          "metadata": {
            "image/png": {
              "width": 420,
              "height": 420
            }
          }
        }
      ]
    },
    {
      "cell_type": "markdown",
      "source": [
        "\n",
        "To read this figure, the top left shows how the posterior density goes from flat (the prior) to linear with the introduction of the first datum, a $w$.  The next panel in the figure shows how this line evolves to a parabolic shape with two pieces of data.  By $n=9$, in the lower right, the posterior seems sensible and peaking near $2/3$.\n",
        "\n",
        "## Motors\n",
        "\n",
        "All of our inference is going to come from analyzing this posterior. We could find the maximum a posterior (MAP) estimate by looking at the topmost point in the bottom right.  We could ask, for example, the probability that the proportion of water is above 1/2 by looking at the corresponding region of the posterior.\n",
        "\n",
        "In more complex settings, we cannot picture such a simple density. Instead, we may sample from the posterior and analyze these samples.  \n",
        "\n",
        "We are going to use a grid sampler to sample from the posterior of the grid example, sampling at a set of discrete points where we have evaluated the posterior and sampling each point proportional to this value.\n",
        "\n",
        "In the next question, we deal with some more advanced methods.\n",
        "\n",
        "## Grid Sampling: An Example"
      ],
      "metadata": {
        "id": "bgGMHCbFAzU7"
      }
    },
    {
      "cell_type": "code",
      "source": [
        "(\n",
        "  d <-\n",
        "    tibble(p_grid = seq(from = 0, to = 1, length.out = 20),      # define grid\n",
        "           prior  = 1) %>%                                       # define prior\n",
        "    mutate(likelihood = dbinom(6, size = 9, prob = p_grid)) %>%  # compute likelihood at each value in grid\n",
        "    mutate(unstd_posterior = likelihood * prior) %>%             # compute product of likelihood and prior\n",
        "    mutate(posterior = unstd_posterior / sum(unstd_posterior))   # standardize the posterior, so it sums to 1\n",
        ")"
      ],
      "metadata": {
        "colab": {
          "base_uri": "https://localhost:8080/",
          "height": 725
        },
        "id": "8ADkb7hfA250",
        "outputId": "829a5a38-ddd6-43b4-ed8b-f1ef24cf1d25"
      },
      "execution_count": 39,
      "outputs": [
        {
          "output_type": "display_data",
          "data": {
            "text/html": [
              "<table class=\"dataframe\">\n",
              "<caption>A tibble: 20 × 5</caption>\n",
              "<thead>\n",
              "\t<tr><th scope=col>p_grid</th><th scope=col>prior</th><th scope=col>likelihood</th><th scope=col>unstd_posterior</th><th scope=col>posterior</th></tr>\n",
              "\t<tr><th scope=col>&lt;dbl&gt;</th><th scope=col>&lt;dbl&gt;</th><th scope=col>&lt;dbl&gt;</th><th scope=col>&lt;dbl&gt;</th><th scope=col>&lt;dbl&gt;</th></tr>\n",
              "</thead>\n",
              "<tbody>\n",
              "\t<tr><td>0.00000000</td><td>1</td><td>0.000000e+00</td><td>0.000000e+00</td><td>0.000000e+00</td></tr>\n",
              "\t<tr><td>0.05263158</td><td>1</td><td>1.518149e-06</td><td>1.518149e-06</td><td>7.989837e-07</td></tr>\n",
              "\t<tr><td>0.10526316</td><td>1</td><td>8.185093e-05</td><td>8.185093e-05</td><td>4.307717e-05</td></tr>\n",
              "\t<tr><td>0.15789474</td><td>1</td><td>7.772923e-04</td><td>7.772923e-04</td><td>4.090797e-04</td></tr>\n",
              "\t<tr><td>0.21052632</td><td>1</td><td>3.598575e-03</td><td>3.598575e-03</td><td>1.893887e-03</td></tr>\n",
              "\t<tr><td>0.26315789</td><td>1</td><td>1.116095e-02</td><td>1.116095e-02</td><td>5.873873e-03</td></tr>\n",
              "\t<tr><td>0.31578947</td><td>1</td><td>2.668299e-02</td><td>2.668299e-02</td><td>1.404294e-02</td></tr>\n",
              "\t<tr><td>0.36842105</td><td>1</td><td>5.292110e-02</td><td>5.292110e-02</td><td>2.785174e-02</td></tr>\n",
              "\t<tr><td>0.42105263</td><td>1</td><td>9.082698e-02</td><td>9.082698e-02</td><td>4.780115e-02</td></tr>\n",
              "\t<tr><td>0.47368421</td><td>1</td><td>1.383413e-01</td><td>1.383413e-01</td><td>7.280739e-02</td></tr>\n",
              "\t<tr><td>0.52631579</td><td>1</td><td>1.897686e-01</td><td>1.897686e-01</td><td>9.987296e-02</td></tr>\n",
              "\t<tr><td>0.57894737</td><td>1</td><td>2.361147e-01</td><td>2.361147e-01</td><td>1.242643e-01</td></tr>\n",
              "\t<tr><td>0.63157895</td><td>1</td><td>2.666113e-01</td><td>2.666113e-01</td><td>1.403143e-01</td></tr>\n",
              "\t<tr><td>0.68421053</td><td>1</td><td>2.714006e-01</td><td>2.714006e-01</td><td>1.428349e-01</td></tr>\n",
              "\t<tr><td>0.73684211</td><td>1</td><td>2.450051e-01</td><td>2.450051e-01</td><td>1.289433e-01</td></tr>\n",
              "\t<tr><td>0.78947368</td><td>1</td><td>1.897686e-01</td><td>1.897686e-01</td><td>9.987296e-02</td></tr>\n",
              "\t<tr><td>0.84210526</td><td>1</td><td>1.179181e-01</td><td>1.179181e-01</td><td>6.205890e-02</td></tr>\n",
              "\t<tr><td>0.89473684</td><td>1</td><td>5.026670e-02</td><td>5.026670e-02</td><td>2.645477e-02</td></tr>\n",
              "\t<tr><td>0.94736842</td><td>1</td><td>8.853845e-03</td><td>8.853845e-03</td><td>4.659673e-03</td></tr>\n",
              "\t<tr><td>1.00000000</td><td>1</td><td>0.000000e+00</td><td>0.000000e+00</td><td>0.000000e+00</td></tr>\n",
              "</tbody>\n",
              "</table>\n"
            ],
            "text/markdown": "\nA tibble: 20 × 5\n\n| p_grid &lt;dbl&gt; | prior &lt;dbl&gt; | likelihood &lt;dbl&gt; | unstd_posterior &lt;dbl&gt; | posterior &lt;dbl&gt; |\n|---|---|---|---|---|\n| 0.00000000 | 1 | 0.000000e+00 | 0.000000e+00 | 0.000000e+00 |\n| 0.05263158 | 1 | 1.518149e-06 | 1.518149e-06 | 7.989837e-07 |\n| 0.10526316 | 1 | 8.185093e-05 | 8.185093e-05 | 4.307717e-05 |\n| 0.15789474 | 1 | 7.772923e-04 | 7.772923e-04 | 4.090797e-04 |\n| 0.21052632 | 1 | 3.598575e-03 | 3.598575e-03 | 1.893887e-03 |\n| 0.26315789 | 1 | 1.116095e-02 | 1.116095e-02 | 5.873873e-03 |\n| 0.31578947 | 1 | 2.668299e-02 | 2.668299e-02 | 1.404294e-02 |\n| 0.36842105 | 1 | 5.292110e-02 | 5.292110e-02 | 2.785174e-02 |\n| 0.42105263 | 1 | 9.082698e-02 | 9.082698e-02 | 4.780115e-02 |\n| 0.47368421 | 1 | 1.383413e-01 | 1.383413e-01 | 7.280739e-02 |\n| 0.52631579 | 1 | 1.897686e-01 | 1.897686e-01 | 9.987296e-02 |\n| 0.57894737 | 1 | 2.361147e-01 | 2.361147e-01 | 1.242643e-01 |\n| 0.63157895 | 1 | 2.666113e-01 | 2.666113e-01 | 1.403143e-01 |\n| 0.68421053 | 1 | 2.714006e-01 | 2.714006e-01 | 1.428349e-01 |\n| 0.73684211 | 1 | 2.450051e-01 | 2.450051e-01 | 1.289433e-01 |\n| 0.78947368 | 1 | 1.897686e-01 | 1.897686e-01 | 9.987296e-02 |\n| 0.84210526 | 1 | 1.179181e-01 | 1.179181e-01 | 6.205890e-02 |\n| 0.89473684 | 1 | 5.026670e-02 | 5.026670e-02 | 2.645477e-02 |\n| 0.94736842 | 1 | 8.853845e-03 | 8.853845e-03 | 4.659673e-03 |\n| 1.00000000 | 1 | 0.000000e+00 | 0.000000e+00 | 0.000000e+00 |\n\n",
            "text/latex": "A tibble: 20 × 5\n\\begin{tabular}{lllll}\n p\\_grid & prior & likelihood & unstd\\_posterior & posterior\\\\\n <dbl> & <dbl> & <dbl> & <dbl> & <dbl>\\\\\n\\hline\n\t 0.00000000 & 1 & 0.000000e+00 & 0.000000e+00 & 0.000000e+00\\\\\n\t 0.05263158 & 1 & 1.518149e-06 & 1.518149e-06 & 7.989837e-07\\\\\n\t 0.10526316 & 1 & 8.185093e-05 & 8.185093e-05 & 4.307717e-05\\\\\n\t 0.15789474 & 1 & 7.772923e-04 & 7.772923e-04 & 4.090797e-04\\\\\n\t 0.21052632 & 1 & 3.598575e-03 & 3.598575e-03 & 1.893887e-03\\\\\n\t 0.26315789 & 1 & 1.116095e-02 & 1.116095e-02 & 5.873873e-03\\\\\n\t 0.31578947 & 1 & 2.668299e-02 & 2.668299e-02 & 1.404294e-02\\\\\n\t 0.36842105 & 1 & 5.292110e-02 & 5.292110e-02 & 2.785174e-02\\\\\n\t 0.42105263 & 1 & 9.082698e-02 & 9.082698e-02 & 4.780115e-02\\\\\n\t 0.47368421 & 1 & 1.383413e-01 & 1.383413e-01 & 7.280739e-02\\\\\n\t 0.52631579 & 1 & 1.897686e-01 & 1.897686e-01 & 9.987296e-02\\\\\n\t 0.57894737 & 1 & 2.361147e-01 & 2.361147e-01 & 1.242643e-01\\\\\n\t 0.63157895 & 1 & 2.666113e-01 & 2.666113e-01 & 1.403143e-01\\\\\n\t 0.68421053 & 1 & 2.714006e-01 & 2.714006e-01 & 1.428349e-01\\\\\n\t 0.73684211 & 1 & 2.450051e-01 & 2.450051e-01 & 1.289433e-01\\\\\n\t 0.78947368 & 1 & 1.897686e-01 & 1.897686e-01 & 9.987296e-02\\\\\n\t 0.84210526 & 1 & 1.179181e-01 & 1.179181e-01 & 6.205890e-02\\\\\n\t 0.89473684 & 1 & 5.026670e-02 & 5.026670e-02 & 2.645477e-02\\\\\n\t 0.94736842 & 1 & 8.853845e-03 & 8.853845e-03 & 4.659673e-03\\\\\n\t 1.00000000 & 1 & 0.000000e+00 & 0.000000e+00 & 0.000000e+00\\\\\n\\end{tabular}\n",
            "text/plain": [
              "   p_grid     prior likelihood   unstd_posterior posterior   \n",
              "1  0.00000000 1     0.000000e+00 0.000000e+00    0.000000e+00\n",
              "2  0.05263158 1     1.518149e-06 1.518149e-06    7.989837e-07\n",
              "3  0.10526316 1     8.185093e-05 8.185093e-05    4.307717e-05\n",
              "4  0.15789474 1     7.772923e-04 7.772923e-04    4.090797e-04\n",
              "5  0.21052632 1     3.598575e-03 3.598575e-03    1.893887e-03\n",
              "6  0.26315789 1     1.116095e-02 1.116095e-02    5.873873e-03\n",
              "7  0.31578947 1     2.668299e-02 2.668299e-02    1.404294e-02\n",
              "8  0.36842105 1     5.292110e-02 5.292110e-02    2.785174e-02\n",
              "9  0.42105263 1     9.082698e-02 9.082698e-02    4.780115e-02\n",
              "10 0.47368421 1     1.383413e-01 1.383413e-01    7.280739e-02\n",
              "11 0.52631579 1     1.897686e-01 1.897686e-01    9.987296e-02\n",
              "12 0.57894737 1     2.361147e-01 2.361147e-01    1.242643e-01\n",
              "13 0.63157895 1     2.666113e-01 2.666113e-01    1.403143e-01\n",
              "14 0.68421053 1     2.714006e-01 2.714006e-01    1.428349e-01\n",
              "15 0.73684211 1     2.450051e-01 2.450051e-01    1.289433e-01\n",
              "16 0.78947368 1     1.897686e-01 1.897686e-01    9.987296e-02\n",
              "17 0.84210526 1     1.179181e-01 1.179181e-01    6.205890e-02\n",
              "18 0.89473684 1     5.026670e-02 5.026670e-02    2.645477e-02\n",
              "19 0.94736842 1     8.853845e-03 8.853845e-03    4.659673e-03\n",
              "20 1.00000000 1     0.000000e+00 0.000000e+00    0.000000e+00"
            ]
          },
          "metadata": {}
        }
      ]
    },
    {
      "cell_type": "markdown",
      "source": [
        "\n",
        "## Grid Points and Accuracy\n",
        "\n",
        "Next, we see ho allowing for the evaluation of more grid points, we get a better estimate of the posterior. The problem, of course, is that sampling more points is computationally expensive--a central concern in these models."
      ],
      "metadata": {
        "id": "maPbFe3pA-0S"
      }
    },
    {
      "cell_type": "code",
      "source": [
        "p2 <-\n",
        "  tibble(p_grid = seq(from = 0, to = 1, length.out = 5),\n",
        "         prior  = 1) %>%\n",
        "  mutate(likelihood = dbinom(6, size = 9, prob = p_grid)) %>%\n",
        "  mutate(unstd_posterior = likelihood * prior) %>%\n",
        "  mutate(posterior = unstd_posterior / sum(unstd_posterior)) %>%\n",
        "\n",
        "  ggplot(aes(x = p_grid, y = posterior)) +\n",
        "  geom_point() +\n",
        "  geom_line() +\n",
        "  labs(subtitle = \"5 points\",\n",
        "       x = \"probability of water\",\n",
        "       y = \"posterior probability\") +\n",
        "  theme(panel.grid = element_blank())\n",
        "\n",
        "p2"
      ],
      "metadata": {
        "colab": {
          "base_uri": "https://localhost:8080/",
          "height": 437
        },
        "id": "I-LagizOBBMw",
        "outputId": "5c6dae25-95c3-4948-858d-d08cc7753be8"
      },
      "execution_count": 40,
      "outputs": [
        {
          "output_type": "display_data",
          "data": {
            "text/plain": [
              "plot without title"
            ],
            "image/png": "[encoded data removed]"
          },
          "metadata": {
            "image/png": {
              "width": 420,
              "height": 420
            }
          }
        }
      ]
    },
    {
      "cell_type": "markdown",
      "source": [
        "## Grid Points and Accuracy\n"
      ],
      "metadata": {
        "id": "Lzz6QPh1BCVi"
      }
    },
    {
      "cell_type": "code",
      "source": [
        "p1 <-\n",
        "  d %>%\n",
        "  ggplot(aes(x = p_grid, y = posterior)) +\n",
        "  geom_point() +\n",
        "  geom_line() +\n",
        "  labs(subtitle = \"20 points\",\n",
        "       x = \"probability of water\",\n",
        "       y = \"posterior probability\") +\n",
        "  theme(panel.grid = element_blank())\n",
        "\n",
        "p1"
      ],
      "metadata": {
        "colab": {
          "base_uri": "https://localhost:8080/",
          "height": 437
        },
        "id": "IATcTsI5BD8O",
        "outputId": "eb176eb6-08a9-466f-dd50-61ac5daf32c0"
      },
      "execution_count": 41,
      "outputs": [
        {
          "output_type": "display_data",
          "data": {
            "text/plain": [
              "plot without title"
            ],
            "image/png": "[encoded data removed]"
          },
          "metadata": {
            "image/png": {
              "width": 420,
              "height": 420
            }
          }
        }
      ]
    },
    {
      "cell_type": "markdown",
      "source": [
        "# Part 2: Sampling Regression Coefficients Using Gibbs, MH, and HMC\n",
        "\n",
        "The posterior from the previous example is not useful in practice: the model is too simple, and the posterior is one-dimensional. We will never really encounter this in practice in Bayesian statisitics. Next, we turn to a slightly more complex setting, the regression model with known error variance.\n",
        "\n",
        "## This part's material comes from\n",
        "\n",
        "\"MCMC using Hamiltonian dynamics\" by Radford Neal\n",
        "\n",
        "- <https://arxiv.org/abs/1206.1901>\n",
        "\n",
        "## Libraries we will need\n",
        "\n",
        "```{r, echo = TRUE, message=FALSE, warning=FALSE}\n",
        "library(mixtools)\n",
        "library(MASS)\n",
        "```\n",
        "\n",
        "## Bayesian Regression\n",
        "\n",
        "Consider a simple model $y_i=X_i^\\top \\beta+ e_i;\\;\\; e_i \\sim \\mathcal N(0,1)$\n",
        "\n",
        "where $\\beta=[2,3]^\\top$.\n",
        "\n",
        "\\medskip\n",
        "\n",
        "We are going to put flat priors on $\\beta$ and assume the error variance is known to be $1$, i.e.\n",
        "\\begin{align*}\n",
        "y_i|X_i, \\beta & \\sim \\mathcal N(X_i^\\top \\beta,1)\\\\\n",
        "\\Pr(\\beta_j) & \\propto 1\n",
        "\\end{align*}\n",
        "\n",
        "Then, we know\n",
        "\\begin{align*}\n",
        "\\beta|\\cdot &\\sim \\mathcal N\\left((X^\\top X)^{-1}X^\\top y, (X^\\top X)^{-1}\\right)\n",
        "\\end{align*}\n",
        "\n",
        "## Methods for Sampling from the Posterior\n",
        "\n",
        "We are going to consider the following samplers for drawing samples of $\\beta$:\n",
        "\n",
        "-- Joint Gibbs sampler (Gibbs2)\n",
        "\n",
        "-- Coordinatewise Gibbs (Gibbs1)\n",
        "\n",
        "--  Metropolis-Hastings (MH)\n",
        "\n",
        "-- Hamiltonian Monte Carlo (HMC)\n",
        "\n",
        "## Methods for Assessing the Chains\n",
        "\n",
        "-- Computational speed\n",
        "\n",
        "-- Mixing and Convergence\n",
        "\n",
        "+ Mixing: How quickly does the chain get to its steady state?\n",
        "\n",
        "+ Convergence: Do multiple chains get to the same place? (Geweke statistic/trace plot)\n",
        "\n",
        "--  Auto-correlation\n",
        "\n",
        "+ Does the chain explore the posterior efficiently?\n",
        "\n",
        "##  Drawing the data\n",
        "First, let's draw the data:\n"
      ],
      "metadata": {
        "id": "Y80K-oKOBF97"
      }
    },
    {
      "cell_type": "code",
      "source": [
        "set.seed(1)\n",
        "n <- 10\n",
        "p <- 2\n",
        "M <- diag(2)\n",
        "M[M == 0] <- 2 ^ -.5\n",
        "X <- MASS::mvrnorm(n, c(0, 0), Sigma = M)\n",
        "X <- apply(X, 2, scale)\n",
        "y <- X %*% c(2, 3) + rnorm(n)\n",
        "y <- y - mean(y)\n",
        "\n",
        "\n",
        "theta.map <- lm(y ~ X)$coef[-1]\n",
        "\n",
        "theta.map"
      ],
      "metadata": {
        "colab": {
          "base_uri": "https://localhost:8080/",
          "height": 34
        },
        "id": "qjU28WH0BKzA",
        "outputId": "cf45e751-52b5-4640-b5b5-12dfc596949c"
      },
      "execution_count": 42,
      "outputs": [
        {
          "output_type": "display_data",
          "data": {
            "text/html": [
              "<style>\n",
              ".dl-inline {width: auto; margin:0; padding: 0}\n",
              ".dl-inline>dt, .dl-inline>dd {float: none; width: auto; display: inline-block}\n",
              ".dl-inline>dt::after {content: \":\\0020\"; padding-right: .5ex}\n",
              ".dl-inline>dt:not(:first-of-type) {padding-left: .5ex}\n",
              "</style><dl class=dl-inline><dt>X1</dt><dd>1.20641212466781</dd><dt>X2</dt><dd>3.0531177230382</dd></dl>\n"
            ],
            "text/markdown": "X1\n:   1.20641212466781X2\n:   3.0531177230382\n\n",
            "text/latex": "\\begin{description*}\n\\item[X1] 1.20641212466781\n\\item[X2] 3.0531177230382\n\\end{description*}\n",
            "text/plain": [
              "      X1       X2 \n",
              "1.206412 3.053118 "
            ]
          },
          "metadata": {}
        }
      ]
    },
    {
      "cell_type": "markdown",
      "source": [
        "## Functions for MH and HMC\n",
        "\n",
        "When evaluating the MH and HMC, we will need to evaluate the posterior under the previous and proposed values. Note these are the _negative_ log posterior and log gradient, which is physicists' convention!"
      ],
      "metadata": {
        "id": "qUQU3YcmBNRB"
      }
    },
    {
      "cell_type": "code",
      "source": [
        "logpost <- function(theta) {\n",
        "  sum((y - X %*% theta) ^ 2) / 2\n",
        "}\n",
        "\n",
        "gradpost <- function(theta) {\n",
        "  -as.vector(t(X) %*% (y - X %*% theta))\n",
        "}"
      ],
      "metadata": {
        "id": "vzG0iK9pBRXR"
      },
      "execution_count": 43,
      "outputs": []
    },
    {
      "cell_type": "markdown",
      "source": [],
      "metadata": {
        "id": "_Pm7fZcnBTlg"
      }
    },
    {
      "cell_type": "markdown",
      "source": [
        "## Functions\n",
        "\n",
        "Let's load some functions that we will use.\n",
        "For now, you can just run this next cell and load the functions. We will revisit them a bit later."
      ],
      "metadata": {
        "id": "OyGub44lBToL"
      }
    },
    {
      "cell_type": "code",
      "source": [
        "HMC <- function (U, grad_U, epsilon, L, current_q)\n",
        "{\n",
        "  q = current_q\n",
        "  p = rnorm(length(q), 0, 1) # independent standard normal variates\n",
        "  current_p = p\n",
        "  # Make a half step for momentum at the beginning\n",
        "  p = p - epsilon * grad_U(q) / 2\n",
        "  # Alternate full steps for position and momentum\n",
        "  for (i in 1:L)\n",
        "  {\n",
        "    # Make a full step for the position\n",
        "    q = q + epsilon * p\n",
        "    # Make a full step for the momentum, except at end of trajectory\n",
        "    if (i != L)\n",
        "      p = p - epsilon * grad_U(q)\n",
        "  }\n",
        "  # Make a half step for momentum at the end.\n",
        "  p = p - epsilon * grad_U(q) / 2\n",
        "  # Negate momentum at end of trajectory to make the proposal symmetric\n",
        "  p = -p\n",
        "  # Evaluate potential and kinetic energies at start and end of trajectory\n",
        "  current_U = U(current_q)\n",
        "  current_K = sum(current_p ^ 2) / 2\n",
        "  proposed_U = U(q)\n",
        "  proposed_K = sum(p ^ 2) / 2\n",
        "  # Accept or reject the state at end of trajectory, returning either\n",
        "  # the position at the end of the trajectory or the initial position\n",
        "  if (runif(1) < exp(current_U - proposed_U + current_K - proposed_K))\n",
        "  {\n",
        "    return (q) # accept\n",
        "  }\n",
        "  else\n",
        "  {\n",
        "    return (current_q) # reject\n",
        "  }\n",
        "}\n",
        "\n",
        "HMC_NUTS <- function (U, grad_U, epsilon, L, current_q)\n",
        "{\n",
        "  q = current_q\n",
        "  p = rnorm(length(q), 0, 1) # independent standard normal variates\n",
        "  current_p = p\n",
        "  # Make a half step for momentum at the beginning\n",
        "  p = p - epsilon * grad_U(q) / 2\n",
        "  q.run <- q\n",
        "  # Alternate full steps for position and momentum\n",
        "  for (i in 1:L)\n",
        "  {\n",
        "    # Make a full step for the position\n",
        "    q = q + epsilon * p\n",
        "    q.run <- cbind(q.run, q)\n",
        "    # Make a full step for the momentum, except at end of trajectory\n",
        "    if (i != L)\n",
        "      p = p - epsilon * grad_U(q)\n",
        "  }\n",
        "  # Make a half step for momentum at the end.\n",
        "  p = p - epsilon * grad_U(q) / 2\n",
        "\n",
        "  q.run\n",
        "}\n",
        "\n",
        "MH <- function (U, epsilon, current_q)\n",
        "{\n",
        "  q = current_q\n",
        "  q = current_q + epsilon * rnorm(length(q))\n",
        "  # Evaluate potential and kinetic energies at start and end of trajectory\n",
        "  current_U = U(current_q)\n",
        "  current_K = 0#sum(current_p^2) / 2\n",
        "  proposed_U = U(q)\n",
        "  proposed_K = 0#sum(p^2) / 2\n",
        "  # Accept or reject the state at end of trajectory, returning either\n",
        "  # the position at the end of the trajectory or the initial position\n",
        "  if (runif(1) < exp(current_U - proposed_U + current_K - proposed_K))\n",
        "  {\n",
        "    return (q) # accept\n",
        "  }\n",
        "  else\n",
        "  {\n",
        "    return (current_q) # reject\n",
        "  }\n",
        "}\n"
      ],
      "metadata": {
        "id": "Icn9UMKpBY5F"
      },
      "execution_count": 44,
      "outputs": []
    }
  ],
  "metadata": {
    "colab": {
      "provenance": [],
      "authorship_tag": "ABX9TyMY9zgpml7/+x3n7m6Aw+ZW",
      "include_colab_link": true
    },
    "kernelspec": {
      "display_name": "R",
      "name": "ir"
    },
    "language_info": {
      "name": "R"
    }
  },
  "nbformat": 4,
  "nbformat_minor": 0
}